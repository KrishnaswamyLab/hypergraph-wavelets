{
 "cells": [
  {
   "cell_type": "code",
   "execution_count": 9,
   "metadata": {},
   "outputs": [],
   "source": [
    "import anndata as ad\n",
    "import os\n",
    "import pathlib"
   ]
  },
  {
   "cell_type": "code",
   "execution_count": 10,
   "metadata": {},
   "outputs": [],
   "source": [
    "DATA_DIR = '/home/jcr222/sym_palmer/jcr222/hypergraphs/data/'\n",
    "OUTPUT_DIR = '/home/jcr222/sym_palmer/jcr222/hypergraphs/section_data'"
   ]
  },
  {
   "cell_type": "code",
   "execution_count": 8,
   "metadata": {},
   "outputs": [
    {
     "name": "stdout",
     "output_type": "stream",
     "text": [
      "/home/jcr222/sym_palmer/jcr222/hypergraphs/data/H20.33.001.h5ad\n",
      "/home/jcr222/sym_palmer/jcr222/hypergraphs/data/H20.33.004.h5ad\n",
      "/home/jcr222/sym_palmer/jcr222/hypergraphs/data/H20.33.012.h5ad\n",
      "/home/jcr222/sym_palmer/jcr222/hypergraphs/data/H20.33.015.h5ad\n",
      "/home/jcr222/sym_palmer/jcr222/hypergraphs/data/H20.33.025.h5ad\n",
      "/home/jcr222/sym_palmer/jcr222/hypergraphs/data/H20.33.035.h5ad\n",
      "/home/jcr222/sym_palmer/jcr222/hypergraphs/data/H20.33.040.h5ad\n",
      "/home/jcr222/sym_palmer/jcr222/hypergraphs/data/H20.33.044.h5ad\n",
      "/home/jcr222/sym_palmer/jcr222/hypergraphs/data/H21.33.001.h5ad\n",
      "/home/jcr222/sym_palmer/jcr222/hypergraphs/data/H21.33.005.h5ad\n",
      "/home/jcr222/sym_palmer/jcr222/hypergraphs/data/H21.33.006.h5ad\n",
      "/home/jcr222/sym_palmer/jcr222/hypergraphs/data/H21.33.011.h5ad\n",
      "/home/jcr222/sym_palmer/jcr222/hypergraphs/data/H21.33.012.h5ad\n",
      "/home/jcr222/sym_palmer/jcr222/hypergraphs/data/H21.33.013.h5ad\n",
      "/home/jcr222/sym_palmer/jcr222/hypergraphs/data/H21.33.014.h5ad\n",
      "/home/jcr222/sym_palmer/jcr222/hypergraphs/data/H21.33.015.h5ad\n",
      "/home/jcr222/sym_palmer/jcr222/hypergraphs/data/H21.33.016.h5ad\n",
      "/home/jcr222/sym_palmer/jcr222/hypergraphs/data/H21.33.019.h5ad\n",
      "/home/jcr222/sym_palmer/jcr222/hypergraphs/data/H21.33.021.h5ad\n",
      "/home/jcr222/sym_palmer/jcr222/hypergraphs/data/H21.33.022.h5ad\n",
      "/home/jcr222/sym_palmer/jcr222/hypergraphs/data/H21.33.023.h5ad\n",
      "/home/jcr222/sym_palmer/jcr222/hypergraphs/data/H21.33.025.h5ad\n",
      "/home/jcr222/sym_palmer/jcr222/hypergraphs/data/H21.33.028.h5ad\n",
      "/home/jcr222/sym_palmer/jcr222/hypergraphs/data/H21.33.031.h5ad\n",
      "/home/jcr222/sym_palmer/jcr222/hypergraphs/data/H21.33.032.h5ad\n",
      "/home/jcr222/sym_palmer/jcr222/hypergraphs/data/H21.33.038.h5ad\n",
      "/home/jcr222/sym_palmer/jcr222/hypergraphs/data/H21.33.040.h5ad\n"
     ]
    }
   ],
   "source": [
    "#########################################\n",
    "# LOAD IN DATA AND EXTRACT ALL SECTIONS\n",
    "#########################################\n",
    "pathlib.Path(OUTPUT_DIR).mkdir(exist_ok=True, parents=True)\n",
    "\n",
    "datasets = os.listdir(DATA_DIR)\n",
    "\n",
    "for patient in datasets:\n",
    "    print(DATA_DIR + patient)\n",
    "    adata_patient = ad.read_h5ad(DATA_DIR + patient)\n",
    "    sections = adata_patient.obs['Section'].unique()\n",
    "    for section in sections:\n",
    "        adata_section = adata_patient[adata_patient.obs['Section'] == section]\n",
    "        # print(section)\n",
    "        adata_section.write(f'{OUTPUT_DIR}/{section}.h5ad')"
   ]
  }
 ],
 "metadata": {
  "kernelspec": {
   "display_name": "pyg",
   "language": "python",
   "name": "python3"
  },
  "language_info": {
   "codemirror_mode": {
    "name": "ipython",
    "version": 3
   },
   "file_extension": ".py",
   "mimetype": "text/x-python",
   "name": "python",
   "nbconvert_exporter": "python",
   "pygments_lexer": "ipython3",
   "version": "3.9.16"
  }
 },
 "nbformat": 4,
 "nbformat_minor": 2
}
